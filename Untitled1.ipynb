{
 "cells": [
  {
   "cell_type": "code",
   "execution_count": null,
   "id": "142313ca",
   "metadata": {},
   "outputs": [],
   "source": [
    "from configparser import ConfigParser\n",
    "from argparse import ArgumentParser\n",
    "\n",
    "from utils.server_registration import get_cache_server\n",
    "from utils.config import Config\n",
    "from crawler import Crawler\n",
    "\n",
    "\n",
    "def main(config_file, restart):\n",
    "    cparser = ConfigParser()\n",
    "    cparser.read(config_file)\n",
    "    config = Config(cparser)\n",
    "    config.cache_server = get_cache_server(config, restart)\n",
    "    crawler = Crawler(config, restart)\n",
    "    crawler.start()"
   ]
  },
  {
   "cell_type": "code",
   "execution_count": 1,
   "id": "fb8ca570",
   "metadata": {},
   "outputs": [],
   "source": [
    "def remove_fragment(url):\n",
    "    pure_url, frag = urldefrag(url)\n",
    "    return pure_url "
   ]
  },
  {
   "cell_type": "code",
   "execution_count": 4,
   "id": "e76c4fb2",
   "metadata": {},
   "outputs": [],
   "source": [
    "import re\n",
    "import requests\n",
    "from urllib.parse import urlparse\n",
    "from bs4 import BeautifulSoup\n",
    "from urllib.parse import urldefrag\n",
    "\n",
    "# extract link\n",
    "# is valid\n",
    "# -------------\n",
    "# It is important to filter out urls that are not with ics.uci.edu domain.\n",
    "# Detect and avoid crawling very large files, especially if they have low information value\n",
    "#  is_valid filters a large number of such extensions, but there may be more\n",
    "\n",
    "def scraper(url, resp):\n",
    "    links = extract_next_links(url, resp)\n",
    "    return [link for link in links if is_valid(link)]\n",
    "\n",
    "def extract_next_links(url):\n",
    "    # Implementation required.\n",
    "    # url: the URL that was used to get the page\n",
    "    # resp.url: the actual url of the page\n",
    "    # resp.status: the status code returned by the server. 200 is OK, you got the page. Other numbers mean that there was some kind of problem.\n",
    "    # resp.error: when status is not 200, you can check the error here, if needed.\n",
    "    # resp.raw_response: this is where the page actually is. More specifically, the raw_response has two parts:\n",
    "    #         resp.raw_response.url: the url, again\n",
    "    #         resp.raw_response.content: the content of the page!\n",
    "    # Return a list with the hyperlinks (as strings) scrapped from resp.raw_response.content\n",
    "\n",
    "  \n",
    "    html = url\n",
    "\n",
    "    soup = BeautifulSoup(html)\n",
    "\n",
    "    response = requests.get(url)\n",
    "\n",
    "    # Parse the HTML content of the webpage using Beautiful Soup\n",
    "    soup = BeautifulSoup(response.content, 'html.parser')\n",
    "\n",
    "    # Extract the title of the webpage\n",
    "    title = soup.title.string\n",
    "\n",
    "    # Extract all of the links on the webpage\n",
    "    links = []\n",
    "    for link in soup.find_all('a'):\n",
    "        href = remove_fragment(link.get('href'))\n",
    "        if href and href.startswith('http'):\n",
    "            links.append(href)\n",
    "            \n",
    "    return links\n",
    "\n",
    "\n",
    "\n",
    "\n",
    "# def is_valid(url):\n",
    "#     # Decide whether to crawl this url or not. \n",
    "#     # If you decide to crawl it, return True; otherwise return False.\n",
    "#     # There are already some conditions that return False.\n",
    "    \n",
    "    \n",
    "#     try:\n",
    "#         parsed = urlparse(url)\n",
    "#         if parsed.scheme not in set([\"http\", \"https\"]):\n",
    "#             return False\n",
    "        \n",
    "#         #whitelist\n",
    "#         return re.match(\n",
    "\n",
    "#             # html, txt\n",
    "#             r\"^.*ics.uci.edu.*$\", parsed.path.lower()\n",
    "#         )\n",
    "    \n",
    "#     #blacklist\n",
    "#         # return not re.match(\n",
    "#         #     r\".*\\.(css|js|bmp|gif|jpe?g|ico\"\n",
    "#         #     + r\"|png|tiff?|mid|mp2|mp3|mp4\"\n",
    "#         #     + r\"|wav|avi|mov|mpeg|ram|m4v|mkv|ogg|ogv|pdf\"\n",
    "#         #     + r\"|ps|eps|tex|ppt|pptx|doc|docx|xls|xlsx|names\"\n",
    "#         #     + r\"|data|dat|exe|bz2|tar|msi|bin|7z|psd|dmg|iso\"\n",
    "#         #     + r\"|epub|dll|cnf|tgz|sha1\"\n",
    "#         #     + r\"|thmx|mso|arff|rtf|jar|csv\"\n",
    "#         #     + r\"|rm|smil|wmv|swf|wma|zip|rar|gz)$\", parsed.path.lower())\n",
    "\n",
    "#     except TypeError:\n",
    "#         print (\"TypeError for \", parsed)\n",
    "#         raise\n"
   ]
  },
  {
   "cell_type": "code",
   "execution_count": 5,
   "id": "a1be9992",
   "metadata": {},
   "outputs": [
    {
     "name": "stdout",
     "output_type": "stream",
     "text": [
      "['https://secure.give.uci.edu/give-to-uci-donald-bren-school-of-information-computer-sciences/', 'https://www.ics.uci.edu/community/news/view_news?id=2303', 'https://www.ics.uci.edu/community/news/view_news?id=2302', 'https://intranet.ics.uci.edu/', 'https://www.ics.uci.edu/resources/researchdevelopment/', 'https://forecast7.com/en/33d68n117d83/irvine/?unit=us', 'https://campusgroups.uci.edu/rsvp?id=1927602', 'https://campusgroups.uci.edu/vcal?source=rss_calendar&type=ical&school=uci&uid=321441d4d099062911f9a24d578ad2f5', 'https://campusgroups.uci.edu/rsvp?id=1927170', 'https://campusgroups.uci.edu/vcal?source=rss_calendar&type=ical&school=uci&uid=01276edeba853aca753aafa1fee95bd0', 'https://campusgroups.uci.edu/rsvp?id=1927171', 'https://campusgroups.uci.edu/vcal?source=rss_calendar&type=ical&school=uci&uid=500b5c5a0cf5d8f2b40279cb1a4590e7', 'http://facebook.com/UCIBrenICS', 'http://instagram.com/ucibrenics/', 'http://twitter.com/UCIbrenICS', 'https://www.linkedin.com/company/uc-irvine-information-and-computer-sciences', 'http://youtube.com/UCIBrenICS', 'https://uci.edu/', 'https://directory.uci.edu/', 'https://www.ics.uci.edu/about/search/index.php', 'https://www.ics.uci.edu/employment/', 'https://intranet.ics.uci.edu/', 'https://www.ics.uci.edu/resources/researchdevelopment/', 'https://www.ics.uci.edu/about/kfflab/index.php', 'https://www.ics.uci.edu/about/facilities/index.php', 'https://www.ics.uci.edu/community/news/', 'https://campusgroups.uci.edu/events?group_ids=54818', 'https://www.ics.uci.edu/about/visit/index.php', 'https://www.ics.uci.edu/accessibility/', 'https://www.ics.uci.edu/about/about_safety.php', 'https://www.ics.uci.edu/privacy/index.php', 'https://www.ics.uci.edu/resources/coronavirus/', 'https://apply.grad.uci.edu/apply/', 'https://www.ics.uci.edu/about/about_contact.php', 'https://secure.connect.uci.edu/s/1735/interior-1col.aspx?sid=1735&gid=3&pgid=801&dids=79', 'https://uci.edu/copyright/']\n"
     ]
    }
   ],
   "source": [
    "\n",
    "print(extract_next_links(\"https://www.ics.uci.edu/\"))"
   ]
  },
  {
   "cell_type": "code",
   "execution_count": null,
   "id": "63a8fef3",
   "metadata": {},
   "outputs": [],
   "source": []
  }
 ],
 "metadata": {
  "kernelspec": {
   "display_name": "Python 3 (ipykernel)",
   "language": "python",
   "name": "python3"
  },
  "language_info": {
   "codemirror_mode": {
    "name": "ipython",
    "version": 3
   },
   "file_extension": ".py",
   "mimetype": "text/x-python",
   "name": "python",
   "nbconvert_exporter": "python",
   "pygments_lexer": "ipython3",
   "version": "3.9.7"
  }
 },
 "nbformat": 4,
 "nbformat_minor": 5
}
